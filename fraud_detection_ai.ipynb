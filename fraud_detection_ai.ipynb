{
 "cells": [
  {
   "cell_type": "markdown",
   "id": "e4d0cb8f",
   "metadata": {},
   "source": [
    "\n",
    "# 💳 AI-Based Financial Fraud Detection\n",
    "\n",
    "This notebook builds a machine learning model using Random Forest and SMOTE to detect fraudulent credit card transactions.  \n",
    "It uses a public Kaggle dataset and is suitable for use in finance/data science internship portfolios (e.g., Goldman Sachs, World Bank).\n",
    "\n",
    "---\n"
   ]
  },
  {
   "cell_type": "code",
   "execution_count": null,
   "metadata": {
    "colab": {
     "base_uri": "https://localhost:8080/",
     "height": 273
    },
    "executionInfo": {
     "elapsed": 14651,
     "status": "ok",
     "timestamp": 1752651962997,
     "user": {
      "displayName": "Saurabh Yadav",
      "userId": "07004310115060752076"
     },
     "user_tz": -330
    },
    "id": "s8ytwKr1X-C6",
    "outputId": "69e12f2f-5b4d-435e-befa-0061f1b0b6cb"
   },
   "outputs": [],
   "source": [
    "from google.colab import drive\n",
    "drive.mount('/content/drive')\n",
    "\n",
    "import pandas as pd\n",
    "\n",
    "file_path = '/content/drive/MyDrive/Fraud_Detection_Project/Dataset/creditcard.csv'\n",
    "df = pd.read_csv(file_path)\n",
    "\n",
    "df.head()\n",
    "\n"
   ]
  },
  {
   "cell_type": "markdown",
   "id": "40ac02b9",
   "metadata": {},
   "source": [
    "\n",
    "## 🔄 Data Preprocessing\n",
    "\n",
    "- Load dataset from Google Drive\n",
    "- Normalize the 'Amount' column\n",
    "- Drop unhelpful columns like 'Time'\n"
   ]
  },
  {
   "cell_type": "code",
   "execution_count": null,
   "metadata": {
    "colab": {
     "base_uri": "https://localhost:8080/"
    },
    "executionInfo": {
     "elapsed": 62,
     "status": "ok",
     "timestamp": 1752652035862,
     "user": {
      "displayName": "Saurabh Yadav",
      "userId": "07004310115060752076"
     },
     "user_tz": -330
    },
    "id": "jfivHQZYM4UW",
    "outputId": "a3c0a3de-1abe-4507-c9d3-0159bbc93a42"
   },
   "outputs": [],
   "source": [
    "print(df.info())            # Check for nulls\n",
    "print(df['Class'].value_counts())  # Check class imbalance\n"
   ]
  },
  {
   "cell_type": "code",
   "execution_count": null,
   "metadata": {
    "executionInfo": {
     "elapsed": 128,
     "status": "ok",
     "timestamp": 1752652354441,
     "user": {
      "displayName": "Saurabh Yadav",
      "userId": "07004310115060752076"
     },
     "user_tz": -330
    },
    "id": "NkriLeOXOHzN"
   },
   "outputs": [],
   "source": [
    "from sklearn.preprocessing import StandardScaler\n",
    "\n",
    "# Normalize 'Amount' (run once is fine)\n",
    "df['Amount'] = StandardScaler().fit_transform(df[['Amount']])\n",
    "\n",
    "# Drop 'Time' column only if it exists\n",
    "if 'Time' in df.columns:\n",
    "    df = df.drop(['Time'], axis=1)\n"
   ]
  },
  {
   "cell_type": "code",
   "execution_count": null,
   "metadata": {
    "executionInfo": {
     "elapsed": 1717,
     "status": "ok",
     "timestamp": 1752652507918,
     "user": {
      "displayName": "Saurabh Yadav",
      "userId": "07004310115060752076"
     },
     "user_tz": -330
    },
    "id": "_9xBHXc1OswH"
   },
   "outputs": [],
   "source": [
    "from sklearn.model_selection import train_test_split\n",
    "\n",
    "# Step 1: Separate features (X) and target (y)\n",
    "X = df.drop('Class', axis=1)  # Features (input data)\n",
    "y = df['Class']               # Target (fraud or not fraud)\n",
    "\n",
    "# Step 2: Split the data (80% train, 20% test) with stratification\n",
    "X_train, X_test, y_train, y_test = train_test_split(\n",
    "    X, y,\n",
    "    test_size=0.2,           # 20% for testing\n",
    "    stratify=y,              # Keep fraud ratio same in train and test\n",
    "    random_state=42          # Reproducibility\n",
    ")\n"
   ]
  },
  {
   "cell_type": "markdown",
   "id": "42d95411",
   "metadata": {},
   "source": [
    "\n",
    "## 🧠 Model Training with Random Forest + SMOTE\n",
    "\n",
    "- Use SMOTE to oversample the minority class (fraud)\n",
    "- Train the model on balanced data\n",
    "- Evaluate using confusion matrix and classification report\n"
   ]
  },
  {
   "cell_type": "code",
   "execution_count": null,
   "metadata": {
    "colab": {
     "base_uri": "https://localhost:8080/"
    },
    "executionInfo": {
     "elapsed": 336692,
     "status": "ok",
     "timestamp": 1752653073058,
     "user": {
      "displayName": "Saurabh Yadav",
      "userId": "07004310115060752076"
     },
     "user_tz": -330
    },
    "id": "LDfruM40PkF9",
    "outputId": "03116228-585a-458b-f34c-15d3d2a96e84"
   },
   "outputs": [],
   "source": [
    "from sklearn.ensemble import RandomForestClassifier\n",
    "from sklearn.metrics import classification_report, confusion_matrix\n",
    "\n",
    "# Step 1: Create the model\n",
    "model = RandomForestClassifier(n_estimators=100, random_state=42)\n",
    "\n",
    "# Step 2: Train the model\n",
    "model.fit(X_train, y_train)\n",
    "\n",
    "# Step 3: Predict on the test set\n",
    "y_pred = model.predict(X_test)\n",
    "\n",
    "# Step 4: Evaluate the model\n",
    "print(\"Confusion Matrix:\\n\", confusion_matrix(y_test, y_pred))\n",
    "print(\"\\nClassification Report:\\n\", classification_report(y_test, y_pred))\n"
   ]
  },
  {
   "cell_type": "code",
   "execution_count": null,
   "metadata": {
    "colab": {
     "base_uri": "https://localhost:8080/"
    },
    "executionInfo": {
     "elapsed": 8249,
     "status": "ok",
     "timestamp": 1752653456567,
     "user": {
      "displayName": "Saurabh Yadav",
      "userId": "07004310115060752076"
     },
     "user_tz": -330
    },
    "id": "aIhKRvjhSTCu",
    "outputId": "5888e42f-b587-4b89-9697-e6da115bbfb1"
   },
   "outputs": [],
   "source": [
    "!pip install imbalanced-learn\n"
   ]
  },
  {
   "cell_type": "code",
   "execution_count": null,
   "metadata": {
    "colab": {
     "base_uri": "https://localhost:8080/"
    },
    "executionInfo": {
     "elapsed": 1664,
     "status": "ok",
     "timestamp": 1752653476882,
     "user": {
      "displayName": "Saurabh Yadav",
      "userId": "07004310115060752076"
     },
     "user_tz": -330
    },
    "id": "g3H6me7KSZw1",
    "outputId": "5c8bba20-10a5-476a-a88d-c07bf11e649f"
   },
   "outputs": [],
   "source": [
    "from imblearn.over_sampling import SMOTE\n",
    "\n",
    "# Apply SMOTE only on training data\n",
    "smote = SMOTE(random_state=42)\n",
    "X_train_resampled, y_train_resampled = smote.fit_resample(X_train, y_train)\n",
    "\n",
    "# Check new class distribution\n",
    "print(\"Before SMOTE:\", y_train.value_counts())\n",
    "print(\"After SMOTE:\", y_train_resampled.value_counts())\n"
   ]
  },
  {
   "cell_type": "code",
   "execution_count": null,
   "metadata": {
    "colab": {
     "base_uri": "https://localhost:8080/"
    },
    "executionInfo": {
     "elapsed": 568860,
     "status": "ok",
     "timestamp": 1752654074921,
     "user": {
      "displayName": "Saurabh Yadav",
      "userId": "07004310115060752076"
     },
     "user_tz": -330
    },
    "id": "Bio9iGXjSfY9",
    "outputId": "a61f612a-09b8-4e50-ec2a-b26f526d29e8"
   },
   "outputs": [],
   "source": [
    "model = RandomForestClassifier(n_estimators=100, random_state=42)\n",
    "model.fit(X_train_resampled, y_train_resampled)\n",
    "\n",
    "# Predict on original test set\n",
    "y_pred = model.predict(X_test)\n",
    "\n",
    "# Evaluate\n",
    "from sklearn.metrics import classification_report, confusion_matrix\n",
    "print(\"Confusion Matrix:\\n\", confusion_matrix(y_test, y_pred))\n",
    "print(\"\\nClassification Report:\\n\", classification_report(y_test, y_pred))\n"
   ]
  },
  {
   "cell_type": "code",
   "execution_count": null,
   "metadata": {
    "colab": {
     "base_uri": "https://localhost:8080/"
    },
    "executionInfo": {
     "elapsed": 328,
     "status": "ok",
     "timestamp": 1752654203957,
     "user": {
      "displayName": "Saurabh Yadav",
      "userId": "07004310115060752076"
     },
     "user_tz": -330
    },
    "id": "A4ynPwpOVLgV",
    "outputId": "100ccea1-0437-42b8-acfd-6bd7b4264ab9"
   },
   "outputs": [],
   "source": [
    "import joblib\n",
    "\n",
    "# Define path to save the model\n",
    "model_path = '/content/drive/MyDrive/Fraud_Detection_Project/smote_fraud_model.pkl'\n",
    "\n",
    "# Save the model\n",
    "joblib.dump(model, model_path)\n",
    "\n",
    "print(f\"✅ Model saved to: {model_path}\")\n"
   ]
  }
 ],
 "metadata": {
  "colab": {
   "authorship_tag": "ABX9TyOWkZcyMrNARAzXvt9E3krk",
   "provenance": []
  },
  "kernelspec": {
   "display_name": "Python 3",
   "name": "python3"
  },
  "language_info": {
   "name": "python"
  }
 },
 "nbformat": 4,
 "nbformat_minor": 0
}
